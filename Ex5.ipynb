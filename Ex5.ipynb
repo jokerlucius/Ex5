import csv

with open('titanic.csv', 'r') as csv_file:
    csv_reader = csv.reader(csv_file)
    
    # 获取列名
    header = next(csv_reader)
    print(header)

    # 打印前50行
    for index, row in enumerate(csv_reader):
        if index < 50:
            print(index, row)
with open('titanic.csv', mode='r') as file:
    csv_reader = csv.reader(file)
    
    header = next(csv_reader)
    
    # 初始化字典来存储每列的缺失值数量
    missing_values = {column: 0 for column in header}
    
    # 逐行遍历数据，查找缺失值
    for row in csv_reader:
        for i, value in enumerate(row):
            if value == '':
                missing_values[header[i]] += 1
    
    # 打印每列的缺失值统计
    for column, count in missing_values.items():
        print(f"{column}: {count} missing values")
from collections import Counter

with open('titanic.csv', mode='r') as file:
    csv_reader = csv.reader(file)
    header = next(csv_reader)
    
    age_present = []
    fare_list = []
    pclass_list = []
    
    for row in csv_reader:
        # 处理缺失的年龄值
        if row[5]:  # 年龄列
            age_present.append(float(row[5]))
        
        # 票价列
        if row[9]:
            fare_list.append(float(row[9]))

        # 乘客等级列
        if row[2]:
            pclass_list.append(int(row[2]))
    
    valid_ages = [age for age in age_present if age is not None]
    mean_age = sum(valid_ages) / len(valid_ages)

    valid_ages.sort()
    n = len(valid_ages)
    median_age = (valid_ages[n//2 - 1] + valid_ages[n//2]) / 2 if n % 2 == 0 else valid_ages[n//2]

    valid_fares = [fare for fare in fare_list if fare is not None]
    mean_fare = sum(valid_fares) / len(valid_fares)

    pclass_counter = Counter(pclass_list)
    mode_pclass = pclass_counter.most_common(1)[0][0]

print(f"Mean Age: {mean_age}")
print(f"Median Age: {median_age}")
print(f"Mean Fare: {mean_fare}")
print(f"Mode Pclass: {mode_pclass}")
import matplotlib.pyplot as plt

# 年龄的直方图
plt.hist(valid_ages, bins=20, edgecolor='black', rwidth=0.8)
plt.xlabel('Ages')
plt.ylabel('Count')
plt.title('Distribution of Age')
plt.show()
plt.boxplot(valid_ages)
plt.title('Box Plot of Ages')
plt.ylabel('Ages')
plt.show()
pclass_1_age = []
pclass_2_age = []
pclass_3_age = []

with open('titanic.csv', mode='r') as file:
    csv_reader = csv.DictReader(file)
    
    for row in csv_reader:
        if row['Age']:
            age = float(row['Age'])
            pclass = int(row['Pclass'])
            if pclass == 1:
                pclass_1_age.append(age)
            elif pclass == 2:
                pclass_2_age.append(age)
            elif pclass == 3:
                pclass_3_age.append(age)

data = [pclass_1_age, pclass_2_age, pclass_3_age]

plt.boxplot(data, labels=['1st Class', '2nd Class', '3rd Class'])
plt.title('Age Distribution Across Passenger Classes (Pclass)')
plt.xlabel('Passenger Class')
plt.ylabel('Age')
plt.grid(True)
plt.show()
male_count = 0
female_count = 0

with open('titanic.csv', mode='r') as file:
    csv_reader = csv.DictReader(file)
    
    for row in csv_reader:
        if row['Sex'] == 'male':
            male_count += 1
        elif row['Sex'] == 'female':
            female_count += 1

categories = ['Male', 'Female']
counts = [male_count, female_count]

plt.bar(categories, counts, color=['blue', 'pink'])
plt.title('Distribution of Passengers by Sex')
plt.xlabel('Sex')
plt.ylabel('Count')
plt.grid(True)
plt.show()
class_1_count = 0
class_2_count = 0
class_3_count = 0

with open('titanic.csv', mode='r') as file:
    csv_reader = csv.DictReader(file)
    
    for row in csv_reader:
        if row['Pclass'] == '1':
            class_1_count += 1
        elif row['Pclass'] == '2':
            class_2_count += 1
        elif row['Pclass'] == '3':
            class_3_count += 1

categories = ['1st Class', '2nd Class', '3rd Class']
counts = [class_1_count, class_2_count, class_3_count]

plt.bar(categories, counts, color=['green', 'orange', 'red'])
plt.title('Distribution of Passengers by Class (Pclass)')
plt.xlabel('Passenger Class')
plt.ylabel('Count')
plt.grid(True)
plt.show()
fare_data = []

with open('titanic.csv', mode='r') as file:
    csv_reader = csv.DictReader(file)
    
    for row in csv_reader:
        if row['Fare']:
            fare_data.append(float(row['Fare']))

plt.hist(fare_data, bins=20, edgecolor='black', color='skyblue')
plt.title('Distribution of Fare in Titanic Dataset')
plt.xlabel('Fare')
plt.ylabel('Number of Passengers')
plt.grid(True)
plt.show()

